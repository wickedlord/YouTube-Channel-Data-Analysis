{
 "cells": [
  {
   "cell_type": "code",
   "execution_count": 146,
   "id": "2deeced2-c670-4ea6-9290-7bb7b59b8ae9",
   "metadata": {},
   "outputs": [],
   "source": [
    "# Importing required libraries\n",
    "import pandas as pd\n",
    "import seaborn as sns"
   ]
  },
  {
   "cell_type": "code",
   "execution_count": 147,
   "id": "d0fe3625-6acd-4f08-a79a-458c77a7476a",
   "metadata": {},
   "outputs": [],
   "source": [
    "# Importing the google api library\n",
    "from googleapiclient.discovery import build"
   ]
  },
  {
   "cell_type": "code",
   "execution_count": null,
   "id": "687c8a0e-2289-4ec7-96d3-eeec1d83cb96",
   "metadata": {},
   "outputs": [],
   "source": [
    "# Generate an API key from Google Developer Console and replace xxx with it\n",
    "api_key = 'xxx'\n",
    "channel_ids = ['UCzOVIHSg-GeenFlGHttWQwA',\n",
    "               'UCaO19EP1T3m61v7lhXO0Cfg',\n",
    "               'UCoxPghkIDTPxtgZV4Zx8tMw'\n",
    "              ]\n",
    "\n",
    "youtube = build('youtube', 'v3', developerKey = api_key)"
   ]
  },
  {
   "cell_type": "markdown",
   "id": "250a38be-63f6-46d4-ac73-bd458a8a2403",
   "metadata": {},
   "source": [
    "## Function to get channel statistics"
   ]
  },
  {
   "cell_type": "code",
   "execution_count": null,
   "id": "cc5c7d50-6848-4789-b769-09a543ec14ff",
   "metadata": {},
   "outputs": [],
   "source": [
    "def get_channel_stats(youtube, channel_id):\n",
    "    all_data = []\n",
    "    request = youtube.channels().list(\n",
    "        part = 'snippet, contentDetails, statistics',\n",
    "        # Channel IDs have to be comma-seperated\n",
    "        id = ','.join(channel_ids))\n",
    "    response = request.execute()\n",
    "\n",
    "    # using for loop to get the data for all the channels\n",
    "    for i in range(len(response['items'])):\n",
    "        data = dict(Channel_name = response['items'][i]['snippet']['title'],\n",
    "                   Subscribers = response['items'][i]['statistics']['subscriberCount'],\n",
    "                   Views = response['items'][i]['statistics']['viewCount'],\n",
    "                   Total_videos = response['items'][i]['statistics']['videoCount'],\n",
    "                   playlist_id = response['items'][i]['contentDetails']['relatedPlaylists']['uploads']\n",
    "                   )\n",
    "        all_data.append(data)\n",
    "\n",
    "    return all_data"
   ]
  },
  {
   "cell_type": "code",
   "execution_count": null,
   "id": "1853730c-d7da-4bea-af31-2733cb58c9ad",
   "metadata": {},
   "outputs": [],
   "source": [
    "channel_statistics = get_channel_stats(youtube, channel_ids)"
   ]
  },
  {
   "cell_type": "code",
   "execution_count": null,
   "id": "e8fa4152-1a45-435f-ace0-c6399ae5434c",
   "metadata": {},
   "outputs": [],
   "source": [
    "channel_data = pd.DataFrame(channel_statistics)"
   ]
  },
  {
   "cell_type": "code",
   "execution_count": null,
   "id": "2da90a62-7c94-4195-a175-96ac6617ac0d",
   "metadata": {},
   "outputs": [],
   "source": [
    "channel_data"
   ]
  },
  {
   "cell_type": "code",
   "execution_count": null,
   "id": "bcbacc5f-0c90-4fd1-8522-b823780135b3",
   "metadata": {},
   "outputs": [],
   "source": [
    "channel_data['Subscribers'] = pd.to_numeric(channel_data['Subscribers'])\n",
    "channel_data['Views'] = pd.to_numeric(channel_data['Views'])\n",
    "channel_data['Total_videos'] = pd.to_numeric(channel_data['Total_videos'])\n",
    "channel_data.dtypes"
   ]
  },
  {
   "cell_type": "code",
   "execution_count": null,
   "id": "f3c1f7e9-8318-4ca3-ac03-9c1eeda01f0e",
   "metadata": {},
   "outputs": [],
   "source": [
    "# Visualizing the key parameters\n",
    "ax = sns.barplot(x = 'Channel_name', y = 'Subscribers', data  = channel_data)"
   ]
  },
  {
   "cell_type": "code",
   "execution_count": null,
   "id": "52c314f8-e269-4077-ac05-4439a81fcc21",
   "metadata": {},
   "outputs": [],
   "source": [
    "ax = sns.barplot(x = 'Channel_name', y = 'Views', data  = channel_data)"
   ]
  },
  {
   "cell_type": "code",
   "execution_count": null,
   "id": "2cfc92f3-2a88-4846-8845-6ad806bd4600",
   "metadata": {},
   "outputs": [],
   "source": [
    "ax = sns.barplot(x = 'Channel_name', y = 'Total_videos', data  = channel_data)"
   ]
  },
  {
   "cell_type": "markdown",
   "id": "bf4d3b09-0adf-4c43-91f6-c5f95ac12d6a",
   "metadata": {},
   "source": [
    "## Function to get the video IDs"
   ]
  },
  {
   "cell_type": "code",
   "execution_count": null,
   "id": "a02bf1f1-fcdb-4b7b-8df7-259be9016bcb",
   "metadata": {},
   "outputs": [],
   "source": [
    "channel_data"
   ]
  },
  {
   "cell_type": "code",
   "execution_count": null,
   "id": "0607d41a-d5fe-4402-8c33-5bc1301b6fb6",
   "metadata": {},
   "outputs": [],
   "source": [
    "playlist_id = channel_data.loc[channel_data['Channel_name'] == 'yatri doctor', 'playlist_id'].iloc[0]"
   ]
  },
  {
   "cell_type": "code",
   "execution_count": null,
   "id": "61f0ad83-be06-4f34-8951-0adbb443fffd",
   "metadata": {},
   "outputs": [],
   "source": [
    "def get_video_ids(youtube, playlist_id):\n",
    "    request = youtube.playlistItems().list(\n",
    "        part = 'contentDetails',\n",
    "        playlistId = playlist_id,\n",
    "        maxResults = 50)\n",
    "    response = request.execute()\n",
    "\n",
    "    video_ids = []\n",
    "    for i in range(len(response['items'])):\n",
    "        video_ids.append(response['items'][i]['contentDetails']['videoId'])\n",
    "\n",
    "    next_page_token = response.get('nextPageToken')\n",
    "    # get is used to avoid the case where there is no next_page_token\n",
    "    more_pages = True\n",
    "\n",
    "    # Below is the logic to fetch all the video ids\n",
    "    while more_pages:\n",
    "        if next_page_token is None:\n",
    "            more_pages = False\n",
    "        else:\n",
    "            request = youtube.playlistItems().list(\n",
    "                part = 'contentDetails',\n",
    "                playlistId = playlist_id,\n",
    "                maxResults = 50,\n",
    "                pageToken = next_page_token\n",
    "            )\n",
    "            response = request.execute()\n",
    "            \n",
    "            for i in range(len(response['items'])):\n",
    "                video_ids.append(response['items'][i]['contentDetails']['videoId'])\n",
    "\n",
    "            next_page_token = response.get('nextPageToken')\n",
    "\n",
    "    return video_ids"
   ]
  },
  {
   "cell_type": "code",
   "execution_count": null,
   "id": "ad6804ad-b3c9-4879-9cb7-71af3743f0aa",
   "metadata": {},
   "outputs": [],
   "source": [
    "video_ids = get_video_ids(youtube, playlist_id)"
   ]
  },
  {
   "cell_type": "markdown",
   "id": "46d4bc4e-c598-4bcb-83c3-f15205047989",
   "metadata": {},
   "source": [
    "## Function to get video details"
   ]
  },
  {
   "cell_type": "code",
   "execution_count": null,
   "id": "d7c6db8b-cf39-4b2c-982d-2777226bb96c",
   "metadata": {},
   "outputs": [],
   "source": [
    "def get_video_details(youtube, video_ids):\n",
    "    all_video_stats = []\n",
    "    for i in range(0, len(video_ids), 50):\n",
    "        request = youtube.videos().list(\n",
    "            part = 'snippet, statistics',\n",
    "            # id of video has to be comma seperated\n",
    "            # also slicing is done as the API request accepts only 50 ids at once\n",
    "            id = ','.join(video_ids[i:i+50])\n",
    "        )\n",
    "        response = request.execute()\n",
    "        for video in response['items']:\n",
    "            video_stats = dict(Title = video['snippet']['title'],\n",
    "                               Published_date = video['snippet']['publishedAt'],\n",
    "                               Views = video['statistics']['viewCount'],\n",
    "                               Likes = video['statistics']['likeCount'],\n",
    "                               Comments = video['statistics']['commentCount']\n",
    "                              )\n",
    "            all_video_stats.append(video_stats)\n",
    "\n",
    "    return all_video_stats"
   ]
  },
  {
   "cell_type": "code",
   "execution_count": null,
   "id": "7a9f1552-c7a5-49d8-a731-61faa1cb6d37",
   "metadata": {},
   "outputs": [],
   "source": [
    "video_details = get_video_details(youtube, video_ids)"
   ]
  },
  {
   "cell_type": "code",
   "execution_count": null,
   "id": "8da05ea2-c0bc-4a79-b144-20a208409900",
   "metadata": {},
   "outputs": [],
   "source": [
    "video_data = pd.DataFrame(video_details)"
   ]
  },
  {
   "cell_type": "code",
   "execution_count": null,
   "id": "4fd83245-43b4-440d-9452-3b5740312e71",
   "metadata": {},
   "outputs": [],
   "source": [
    "# Converting the info into relevant data types\n",
    "video_data['Published_date'] = pd.to_datetime(video_data['Published_date']).dt.date\n",
    "video_data['Views'] = pd.to_numeric(video_data['Views'])\n",
    "video_data['Likes'] = pd.to_numeric(video_data['Likes'])\n",
    "video_data['Comments'] = pd.to_numeric(video_data['Comments'])\n",
    "video_data"
   ]
  },
  {
   "cell_type": "code",
   "execution_count": null,
   "id": "26d7827d-d00b-4a6b-9021-c3a49c0f94ef",
   "metadata": {},
   "outputs": [],
   "source": [
    "# Finding the top 10 most viewed videos\n",
    "top10_videos = video_data.sort_values(by = 'Views', ascending = False).head(10)"
   ]
  },
  {
   "cell_type": "code",
   "execution_count": null,
   "id": "d76aebd8-3376-4670-a390-3a6a8bb92dbc",
   "metadata": {},
   "outputs": [],
   "source": [
    "top10_videos"
   ]
  },
  {
   "cell_type": "code",
   "execution_count": null,
   "id": "962c7191-414c-4a48-b7b4-9ca79de0a517",
   "metadata": {},
   "outputs": [],
   "source": [
    "# Analyzing Views Against Title\n",
    "ax1 = sns.barplot(x = 'Views', y = 'Title', data = top10_videos)"
   ]
  },
  {
   "cell_type": "code",
   "execution_count": null,
   "id": "9fc109ce-a6b0-4e9a-9afd-93c70a0b01d9",
   "metadata": {},
   "outputs": [],
   "source": [
    "# Analyzing data with respect to month\n",
    "\n",
    "# Segregating data by month\n",
    "video_data['Month'] = pd.to_datetime(video_data['Published_date']).dt.strftime('%b')"
   ]
  },
  {
   "cell_type": "code",
   "execution_count": null,
   "id": "8ae60315-9b01-439a-b598-1ab452aedfa3",
   "metadata": {},
   "outputs": [],
   "source": [
    "video_data"
   ]
  },
  {
   "cell_type": "code",
   "execution_count": null,
   "id": "6cdfd48c-f388-4e59-b289-8a2e1bc70f39",
   "metadata": {},
   "outputs": [],
   "source": [
    "videos_per_month = video_data.groupby('Month', as_index=False).size()"
   ]
  },
  {
   "cell_type": "code",
   "execution_count": null,
   "id": "cb4dc880-ff36-40c8-b113-3707dd41e1e9",
   "metadata": {},
   "outputs": [],
   "source": [
    "videos_per_month"
   ]
  },
  {
   "cell_type": "code",
   "execution_count": null,
   "id": "acd979b4-3ad0-459a-a912-370fc8da63e8",
   "metadata": {},
   "outputs": [],
   "source": [
    "# Sorting w.r.t Month\n",
    "sort_order = ['Jan', 'Feb', 'Mar', 'Apr', 'May', 'June', 'July', 'Aug', 'Sep', 'Oct', 'Nov', 'Dec']"
   ]
  },
  {
   "cell_type": "code",
   "execution_count": null,
   "id": "a29e7daa-0fbc-47dd-ac89-fa6eaa3d27e1",
   "metadata": {},
   "outputs": [],
   "source": [
    "videos_per_month.index = pd.CategoricalIndex(videos_per_month['Month'], categories = sort_order, ordered = True)"
   ]
  },
  {
   "cell_type": "code",
   "execution_count": null,
   "id": "998c0d16-4951-4d97-aaf8-242e9e3614c3",
   "metadata": {},
   "outputs": [],
   "source": [
    "videos_per_month = videos_per_month.sort_index()"
   ]
  },
  {
   "cell_type": "code",
   "execution_count": null,
   "id": "cabf62ff-e42f-499c-a5c1-e63c2127c33e",
   "metadata": {},
   "outputs": [],
   "source": [
    "ax2 = sns.barplot(x = 'Month', y = 'size', data = videos_per_month)"
   ]
  },
  {
   "cell_type": "code",
   "execution_count": null,
   "id": "76d9d7c8-0d30-4852-afb3-5205ccf322f7",
   "metadata": {},
   "outputs": [],
   "source": []
  }
 ],
 "metadata": {
  "kernelspec": {
   "display_name": "Python 3 (ipykernel)",
   "language": "python",
   "name": "python3"
  },
  "language_info": {
   "codemirror_mode": {
    "name": "ipython",
    "version": 3
   },
   "file_extension": ".py",
   "mimetype": "text/x-python",
   "name": "python",
   "nbconvert_exporter": "python",
   "pygments_lexer": "ipython3",
   "version": "3.12.4"
  }
 },
 "nbformat": 4,
 "nbformat_minor": 5
}
